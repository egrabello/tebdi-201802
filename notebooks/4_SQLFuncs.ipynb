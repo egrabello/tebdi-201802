{
 "cells": [
  {
   "cell_type": "code",
   "execution_count": 8,
   "metadata": {},
   "outputs": [],
   "source": [
    "from datetime import datetime, timedelta"
   ]
  },
  {
   "cell_type": "code",
   "execution_count": 9,
   "metadata": {},
   "outputs": [],
   "source": [
    "# Function to rewrite SQL by adding [time] per unit (year, month, day, hour, minute, or second)\n",
    "def groupByUnit(query, unit):\n",
    "    aggregate = 'time'\n",
    "    timeMap = {'year': '4', 'month': '7', 'day': '10', 'hour': '13', 'minute': '16', 'second': '19'}\n",
    "    if (query.lower().find('[time]') >= 0) and (unit.lower() in timeMap):\n",
    "        mask = '1900-01-01T00:00:00.0Z'\n",
    "        aggregate = \"CONCAT(SUBSTR(time,0,\" + timeMap[unit.lower()] + \"),'\" + mask[int(timeMap[unit.lower()]):] + \"')\"\n",
    "    return query.replace('[time]', aggregate)"
   ]
  },
  {
   "cell_type": "code",
   "execution_count": 10,
   "metadata": {},
   "outputs": [],
   "source": [
    "# Function to add condition to filters in SQL\n",
    "def addCondition(filters, condition):\n",
    "    if len(filters) > 0:\n",
    "        return filters + \" AND \" + condition\n",
    "    else:\n",
    "        return condition"
   ]
  },
  {
   "cell_type": "code",
   "execution_count": 11,
   "metadata": {},
   "outputs": [],
   "source": [
    "# Function to apply filters to SQL query\n",
    "def filter(query, days, startDate, endDate):\n",
    "    # Define date filters\n",
    "    filters = ''\n",
    "    if len(days) > 0:\n",
    "        refDate = str(datetime.now() + timedelta(days=-int(days)))[:10]\n",
    "        filters = addCondition(filters, \"time >= '\" + refDate + \"'\" )\n",
    "    if len(startDate) > 0:\n",
    "        filters = addCondition(filters, \"time >= '\" + startDate + \"'\" )\n",
    "    if len(endDate) > 0:\n",
    "        refDate = str(datetime.strptime(endDate,'%Y-%m-%d') + timedelta(days=1))[:10]\n",
    "        filters = addCondition(filters, \"time < '\" + refDate + \"'\" )\n",
    "\n",
    "    # Add filters to query\n",
    "    if len(filters) > 0:\n",
    "        posWhere = query.lower().find(' where ')\n",
    "        if posWhere >= 0:\n",
    "            query = query[0:posWhere] + ' WHERE ' + filters + ' AND ' + query[posWhere+7:]\n",
    "        else:\n",
    "            posFrom = query.lower().find(' from requests')\n",
    "            if posFrom >= 0:\n",
    "                query = query[0:posFrom] + ' FROM requests WHERE ' + filters + query[posFrom+14:]\n",
    "\n",
    "    return query"
   ]
  },
  {
   "cell_type": "code",
   "execution_count": 18,
   "metadata": {},
   "outputs": [
    {
     "data": {
      "text/plain": [
       "\"SELECT CONCAT(SUBSTR(time,0,19),'.0Z') AS periodo, COUNT(correlationId) AS requisicoes, SUM(durationMs) AS duracao FROM requests GROUP BY periodo ORDER BY periodo\""
      ]
     },
     "execution_count": 18,
     "metadata": {},
     "output_type": "execute_result"
    }
   ],
   "source": [
    "sqlQuery = \"SELECT [time] AS periodo, COUNT(correlationId) AS requisicoes, SUM(durationMs) AS duracao FROM requests GROUP BY periodo ORDER BY periodo\"\n",
    "days = \"\"\n",
    "start = \"\"\n",
    "end = \"\"\n",
    "sqlQuery = groupByUnit(sqlQuery,'second')\n",
    "sqlQuery = filter(sqlQuery, days, start, end)\n",
    "sqlQuery"
   ]
  },
  {
   "cell_type": "code",
   "execution_count": null,
   "metadata": {},
   "outputs": [],
   "source": []
  }
 ],
 "metadata": {
  "kernelspec": {
   "display_name": "Python [conda env:py35]",
   "language": "python",
   "name": "conda-env-py35-py"
  },
  "language_info": {
   "codemirror_mode": {
    "name": "ipython",
    "version": 3
   },
   "file_extension": ".py",
   "mimetype": "text/x-python",
   "name": "python",
   "nbconvert_exporter": "python",
   "pygments_lexer": "ipython3",
   "version": "3.5.5"
  }
 },
 "nbformat": 4,
 "nbformat_minor": 2
}
