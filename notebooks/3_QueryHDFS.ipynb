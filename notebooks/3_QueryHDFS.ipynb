{
 "cells": [
  {
   "cell_type": "code",
   "execution_count": 1,
   "metadata": {},
   "outputs": [],
   "source": [
    "from pyspark.sql import SparkSession\n",
    "import pandas\n",
    "from sqlFuncs import *\n",
    "import json"
   ]
  },
  {
   "cell_type": "code",
   "execution_count": 2,
   "metadata": {},
   "outputs": [],
   "source": [
    "# Input parameters (config file and +)\n",
    "configs = json.loads(open(\"config.json\").read())\n",
    "baseHDFS = configs['baseHDFS']\n",
    "pathLogs = baseHDFS + \"/*.json\""
   ]
  },
  {
   "cell_type": "code",
   "execution_count": 3,
   "metadata": {},
   "outputs": [],
   "source": [
    "# Creates SparkSession\n",
    "spark = SparkSession.builder.appName(\"Spark SQL - Query HDFS\").getOrCreate()"
   ]
  },
  {
   "cell_type": "code",
   "execution_count": 4,
   "metadata": {},
   "outputs": [],
   "source": [
    "# Creates Dataframe and view\n",
    "df = spark.read.json(pathLogs)\n",
    "df.createOrReplaceTempView(\"requests\")"
   ]
  },
  {
   "cell_type": "code",
   "execution_count": 30,
   "metadata": {},
   "outputs": [
    {
     "data": {
      "text/plain": [
       "\"SELECT CONCAT(SUBSTR(time,0,13),':00:00.0Z') as timeSpan, COUNT(correlationId) as calls FROM requests GROUP BY timeSpan ORDER BY timeSpan\""
      ]
     },
     "execution_count": 30,
     "metadata": {},
     "output_type": "execute_result"
    }
   ],
   "source": [
    "# Define SQL query, aggregation and filters\n",
    "sqlQuery = \"SELECT [time] as timeSpan, COUNT(correlationId) as calls FROM requests GROUP BY timeSpan ORDER BY timeSpan\"\n",
    "days = \"\"\n",
    "start = \"\"\n",
    "end = \"\"\n",
    "sqlQuery = groupByUnit(sqlQuery,'hour')\n",
    "sqlQuery = timeFilter(sqlQuery, days, start, end)\n",
    "sqlQuery\n"
   ]
  },
  {
   "cell_type": "code",
   "execution_count": 31,
   "metadata": {},
   "outputs": [],
   "source": [
    "# Run query and converts DataFrame to Dictionary\n",
    "result = spark.sql(sqlQuery)\n",
    "output = result.toPandas().to_dict('records')"
   ]
  },
  {
   "cell_type": "code",
   "execution_count": 32,
   "metadata": {},
   "outputs": [
    {
     "data": {
      "text/plain": [
       "192"
      ]
     },
     "execution_count": 32,
     "metadata": {},
     "output_type": "execute_result"
    }
   ],
   "source": [
    "len(output)"
   ]
  },
  {
   "cell_type": "code",
   "execution_count": 29,
   "metadata": {},
   "outputs": [
    {
     "data": {
      "text/plain": [
       "[{'apiId': 'emprestimo',\n",
       "  'calls': 325,\n",
       "  'duration': 652512,\n",
       "  'operationId': '5a2933ec72b8f10d18f955a5',\n",
       "  'times': 41,\n",
       "  'urls': 32},\n",
       " {'apiId': 'emprestimo',\n",
       "  'calls': 62,\n",
       "  'duration': 119352,\n",
       "  'operationId': 'gettaxasjurosvigentes',\n",
       "  'times': 10,\n",
       "  'urls': 2},\n",
       " {'apiId': 'emprestimo',\n",
       "  'calls': 50,\n",
       "  'duration': 94205,\n",
       "  'operationId': '5a2933ec72b8f10d18f955ad',\n",
       "  'times': 8,\n",
       "  'urls': 1},\n",
       " {'apiId': 'emprestimo',\n",
       "  'calls': 40,\n",
       "  'duration': 228986,\n",
       "  'operationId': '5a2933ec72b8f10d18f955a9',\n",
       "  'times': 6,\n",
       "  'urls': 5},\n",
       " {'apiId': 'emprestimo',\n",
       "  'calls': 22,\n",
       "  'duration': 48240,\n",
       "  'operationId': '5a2933ec72b8f10d18f955ae',\n",
       "  'times': 3,\n",
       "  'urls': 3},\n",
       " {'apiId': 'emprestimo',\n",
       "  'calls': 6,\n",
       "  'duration': 19354,\n",
       "  'operationId': '5a2933ec72b8f10d18f955b8',\n",
       "  'times': 1,\n",
       "  'urls': 1},\n",
       " {'apiId': '5a4b844c47ef5a9e559cca1b',\n",
       "  'calls': 6,\n",
       "  'duration': 8227,\n",
       "  'operationId': '5a4b850447a3fd0bac107145',\n",
       "  'times': 1,\n",
       "  'urls': 1},\n",
       " {'apiId': '5a4b844c47ef5a9e559cca1b',\n",
       "  'calls': 6,\n",
       "  'duration': 10197,\n",
       "  'operationId': '5a2aeb9472b8f10d18f955ee',\n",
       "  'times': 1,\n",
       "  'urls': 1},\n",
       " {'apiId': '5a4b844c47ef5a9e559cca1b',\n",
       "  'calls': 6,\n",
       "  'duration': 10760,\n",
       "  'operationId': '5a2aeb9472b8f10d18f955fb',\n",
       "  'times': 1,\n",
       "  'urls': 1},\n",
       " {'apiId': 'emprestimo',\n",
       "  'calls': 6,\n",
       "  'duration': 11171,\n",
       "  'operationId': '5a2933ec72b8f10d18f955aa',\n",
       "  'times': 1,\n",
       "  'urls': 1}]"
      ]
     },
     "execution_count": 29,
     "metadata": {},
     "output_type": "execute_result"
    }
   ],
   "source": [
    "output"
   ]
  },
  {
   "cell_type": "code",
   "execution_count": null,
   "metadata": {},
   "outputs": [],
   "source": []
  }
 ],
 "metadata": {
  "kernelspec": {
   "display_name": "Python [conda env:py35]",
   "language": "python",
   "name": "conda-env-py35-py"
  },
  "language_info": {
   "codemirror_mode": {
    "name": "ipython",
    "version": 3
   },
   "file_extension": ".py",
   "mimetype": "text/x-python",
   "name": "python",
   "nbconvert_exporter": "python",
   "pygments_lexer": "ipython3",
   "version": "3.5.5"
  }
 },
 "nbformat": 4,
 "nbformat_minor": 2
}
