{
 "cells": [
  {
   "cell_type": "code",
   "execution_count": 1,
   "metadata": {},
   "outputs": [],
   "source": [
    "from pyspark.sql import SparkSession\n",
    "import pandas\n",
    "from sqlFuncs import *\n",
    "import json"
   ]
  },
  {
   "cell_type": "code",
   "execution_count": 2,
   "metadata": {},
   "outputs": [],
   "source": [
    "# Input parameters (config file and +)\n",
    "configs = json.loads(open(\"config.json\").read())\n",
    "baseHDFS = configs['baseHDFS']\n",
    "pathLogs = baseHDFS + \"/*.json\""
   ]
  },
  {
   "cell_type": "code",
   "execution_count": 3,
   "metadata": {},
   "outputs": [],
   "source": [
    "# Creates SparkSession\n",
    "spark = SparkSession.builder.appName(\"Spark SQL - Query HDFS\").getOrCreate()"
   ]
  },
  {
   "cell_type": "code",
   "execution_count": 4,
   "metadata": {},
   "outputs": [],
   "source": [
    "# Creates Dataframe and view\n",
    "df = spark.read.json(pathLogs)\n",
    "df.createOrReplaceTempView(\"requests\")"
   ]
  },
  {
   "cell_type": "code",
   "execution_count": 14,
   "metadata": {},
   "outputs": [
    {
     "data": {
      "text/plain": [
       "\"SELECT CONCAT(SUBSTR(time,0,13),':00:00.0Z') as timeSpan, COUNT(correlationId) as calls FROM requests GROUP BY timeSpan ORDER BY timeSpan\""
      ]
     },
     "execution_count": 14,
     "metadata": {},
     "output_type": "execute_result"
    }
   ],
   "source": [
    "# Define SQL query, aggregation and filters\n",
    "sqlQuery = \"SELECT [time] as timeSpan, COUNT(correlationId) as calls FROM requests GROUP BY timeSpan ORDER BY timeSpan\"\n",
    "days = \"\"\n",
    "start = \"\"\n",
    "end = \"\"\n",
    "sqlQuery = groupByUnit(sqlQuery,'hour')\n",
    "sqlQuery = timeFilter(sqlQuery, days, start, end)\n",
    "sqlQuery\n"
   ]
  },
  {
   "cell_type": "code",
   "execution_count": 15,
   "metadata": {},
   "outputs": [],
   "source": [
    "# Run query and converts DataFrame to Dictionary\n",
    "result = spark.sql(sqlQuery)\n",
    "output = result.toPandas().to_dict('records')"
   ]
  },
  {
   "cell_type": "code",
   "execution_count": 16,
   "metadata": {},
   "outputs": [
    {
     "data": {
      "text/plain": [
       "171"
      ]
     },
     "execution_count": 16,
     "metadata": {},
     "output_type": "execute_result"
    }
   ],
   "source": [
    "len(output)"
   ]
  },
  {
   "cell_type": "code",
   "execution_count": 17,
   "metadata": {},
   "outputs": [
    {
     "data": {
      "text/plain": [
       "[{'calls': 2487, 'timeSpan': '2018-08-04T00:00:00.0Z'},\n",
       " {'calls': 1624, 'timeSpan': '2018-08-04T01:00:00.0Z'},\n",
       " {'calls': 652, 'timeSpan': '2018-08-04T02:00:00.0Z'},\n",
       " {'calls': 506, 'timeSpan': '2018-08-04T03:00:00.0Z'},\n",
       " {'calls': 134, 'timeSpan': '2018-08-04T04:00:00.0Z'},\n",
       " {'calls': 569, 'timeSpan': '2018-08-04T05:00:00.0Z'},\n",
       " {'calls': 946, 'timeSpan': '2018-08-04T06:00:00.0Z'},\n",
       " {'calls': 276, 'timeSpan': '2018-08-04T07:00:00.0Z'},\n",
       " {'calls': 418, 'timeSpan': '2018-08-04T08:00:00.0Z'},\n",
       " {'calls': 521, 'timeSpan': '2018-08-04T09:00:00.0Z'},\n",
       " {'calls': 794, 'timeSpan': '2018-08-04T10:00:00.0Z'},\n",
       " {'calls': 1158, 'timeSpan': '2018-08-04T11:00:00.0Z'},\n",
       " {'calls': 1318, 'timeSpan': '2018-08-04T12:00:00.0Z'},\n",
       " {'calls': 2411, 'timeSpan': '2018-08-04T13:00:00.0Z'},\n",
       " {'calls': 1871, 'timeSpan': '2018-08-04T14:00:00.0Z'},\n",
       " {'calls': 1762, 'timeSpan': '2018-08-04T15:00:00.0Z'},\n",
       " {'calls': 1572, 'timeSpan': '2018-08-04T16:00:00.0Z'},\n",
       " {'calls': 1779, 'timeSpan': '2018-08-04T17:00:00.0Z'},\n",
       " {'calls': 2042, 'timeSpan': '2018-08-04T18:00:00.0Z'},\n",
       " {'calls': 2275, 'timeSpan': '2018-08-04T19:00:00.0Z'},\n",
       " {'calls': 1693, 'timeSpan': '2018-08-04T20:00:00.0Z'},\n",
       " {'calls': 1422, 'timeSpan': '2018-08-04T21:00:00.0Z'},\n",
       " {'calls': 1246, 'timeSpan': '2018-08-04T22:00:00.0Z'},\n",
       " {'calls': 1043, 'timeSpan': '2018-08-04T23:00:00.0Z'},\n",
       " {'calls': 1646, 'timeSpan': '2018-08-05T00:00:00.0Z'},\n",
       " {'calls': 579, 'timeSpan': '2018-08-05T01:00:00.0Z'},\n",
       " {'calls': 382, 'timeSpan': '2018-08-05T02:00:00.0Z'},\n",
       " {'calls': 375, 'timeSpan': '2018-08-05T03:00:00.0Z'},\n",
       " {'calls': 180, 'timeSpan': '2018-08-05T04:00:00.0Z'},\n",
       " {'calls': 137, 'timeSpan': '2018-08-05T05:00:00.0Z'},\n",
       " {'calls': 128, 'timeSpan': '2018-08-05T06:00:00.0Z'},\n",
       " {'calls': 351, 'timeSpan': '2018-08-05T07:00:00.0Z'},\n",
       " {'calls': 415, 'timeSpan': '2018-08-05T08:00:00.0Z'},\n",
       " {'calls': 705, 'timeSpan': '2018-08-05T09:00:00.0Z'},\n",
       " {'calls': 554, 'timeSpan': '2018-08-05T10:00:00.0Z'},\n",
       " {'calls': 539, 'timeSpan': '2018-08-05T11:00:00.0Z'},\n",
       " {'calls': 1180, 'timeSpan': '2018-08-05T12:00:00.0Z'},\n",
       " {'calls': 1214, 'timeSpan': '2018-08-05T13:00:00.0Z'},\n",
       " {'calls': 1226, 'timeSpan': '2018-08-05T14:00:00.0Z'},\n",
       " {'calls': 1368, 'timeSpan': '2018-08-05T15:00:00.0Z'},\n",
       " {'calls': 1638, 'timeSpan': '2018-08-05T16:00:00.0Z'},\n",
       " {'calls': 887, 'timeSpan': '2018-08-05T17:00:00.0Z'},\n",
       " {'calls': 1141, 'timeSpan': '2018-08-05T18:00:00.0Z'},\n",
       " {'calls': 1413, 'timeSpan': '2018-08-05T19:00:00.0Z'},\n",
       " {'calls': 1215, 'timeSpan': '2018-08-05T20:00:00.0Z'},\n",
       " {'calls': 1728, 'timeSpan': '2018-08-05T21:00:00.0Z'},\n",
       " {'calls': 1760, 'timeSpan': '2018-08-05T22:00:00.0Z'},\n",
       " {'calls': 2114, 'timeSpan': '2018-08-05T23:00:00.0Z'},\n",
       " {'calls': 1686, 'timeSpan': '2018-08-06T00:00:00.0Z'},\n",
       " {'calls': 1176, 'timeSpan': '2018-08-06T01:00:00.0Z'},\n",
       " {'calls': 494, 'timeSpan': '2018-08-06T02:00:00.0Z'},\n",
       " {'calls': 835, 'timeSpan': '2018-08-06T03:00:00.0Z'},\n",
       " {'calls': 131, 'timeSpan': '2018-08-06T04:00:00.0Z'},\n",
       " {'calls': 153, 'timeSpan': '2018-08-06T05:00:00.0Z'},\n",
       " {'calls': 29, 'timeSpan': '2018-08-06T06:00:00.0Z'},\n",
       " {'calls': 167, 'timeSpan': '2018-08-06T07:00:00.0Z'},\n",
       " {'calls': 356, 'timeSpan': '2018-08-06T08:00:00.0Z'},\n",
       " {'calls': 622, 'timeSpan': '2018-08-06T09:00:00.0Z'},\n",
       " {'calls': 1123, 'timeSpan': '2018-08-06T10:00:00.0Z'},\n",
       " {'calls': 3462, 'timeSpan': '2018-08-06T11:00:00.0Z'},\n",
       " {'calls': 5048, 'timeSpan': '2018-08-06T12:00:00.0Z'},\n",
       " {'calls': 7037, 'timeSpan': '2018-08-06T13:00:00.0Z'},\n",
       " {'calls': 8258, 'timeSpan': '2018-08-06T14:00:00.0Z'},\n",
       " {'calls': 7603, 'timeSpan': '2018-08-06T15:00:00.0Z'},\n",
       " {'calls': 7120, 'timeSpan': '2018-08-06T16:00:00.0Z'},\n",
       " {'calls': 7393, 'timeSpan': '2018-08-06T17:00:00.0Z'},\n",
       " {'calls': 6246, 'timeSpan': '2018-08-06T18:00:00.0Z'},\n",
       " {'calls': 1402, 'timeSpan': '2018-08-06T19:00:00.0Z'},\n",
       " {'calls': 1442, 'timeSpan': '2018-08-06T20:00:00.0Z'},\n",
       " {'calls': 4138, 'timeSpan': '2018-08-06T21:00:00.0Z'},\n",
       " {'calls': 3392, 'timeSpan': '2018-08-06T22:00:00.0Z'},\n",
       " {'calls': 3215, 'timeSpan': '2018-08-06T23:00:00.0Z'},\n",
       " {'calls': 3992, 'timeSpan': '2018-08-07T00:00:00.0Z'},\n",
       " {'calls': 2605, 'timeSpan': '2018-08-07T01:00:00.0Z'},\n",
       " {'calls': 1716, 'timeSpan': '2018-08-07T02:00:00.0Z'},\n",
       " {'calls': 614, 'timeSpan': '2018-08-07T03:00:00.0Z'},\n",
       " {'calls': 683, 'timeSpan': '2018-08-07T04:00:00.0Z'},\n",
       " {'calls': 570, 'timeSpan': '2018-08-07T05:00:00.0Z'},\n",
       " {'calls': 374, 'timeSpan': '2018-08-07T06:00:00.0Z'},\n",
       " {'calls': 222, 'timeSpan': '2018-08-07T07:00:00.0Z'},\n",
       " {'calls': 439, 'timeSpan': '2018-08-07T08:00:00.0Z'},\n",
       " {'calls': 868, 'timeSpan': '2018-08-07T09:00:00.0Z'},\n",
       " {'calls': 1753, 'timeSpan': '2018-08-07T10:00:00.0Z'},\n",
       " {'calls': 4811, 'timeSpan': '2018-08-07T11:00:00.0Z'},\n",
       " {'calls': 6667, 'timeSpan': '2018-08-07T12:00:00.0Z'},\n",
       " {'calls': 7000, 'timeSpan': '2018-08-07T13:00:00.0Z'},\n",
       " {'calls': 7759, 'timeSpan': '2018-08-07T14:00:00.0Z'},\n",
       " {'calls': 5834, 'timeSpan': '2018-08-07T15:00:00.0Z'},\n",
       " {'calls': 6650, 'timeSpan': '2018-08-07T16:00:00.0Z'},\n",
       " {'calls': 5921, 'timeSpan': '2018-08-07T17:00:00.0Z'},\n",
       " {'calls': 5856, 'timeSpan': '2018-08-07T18:00:00.0Z'},\n",
       " {'calls': 4178, 'timeSpan': '2018-08-07T19:00:00.0Z'},\n",
       " {'calls': 4247, 'timeSpan': '2018-08-07T20:00:00.0Z'},\n",
       " {'calls': 3567, 'timeSpan': '2018-08-07T21:00:00.0Z'},\n",
       " {'calls': 3634, 'timeSpan': '2018-08-07T22:00:00.0Z'},\n",
       " {'calls': 3398, 'timeSpan': '2018-08-07T23:00:00.0Z'},\n",
       " {'calls': 2546, 'timeSpan': '2018-08-08T00:00:00.0Z'},\n",
       " {'calls': 2022, 'timeSpan': '2018-08-08T01:00:00.0Z'},\n",
       " {'calls': 1236, 'timeSpan': '2018-08-08T02:00:00.0Z'},\n",
       " {'calls': 1050, 'timeSpan': '2018-08-08T03:00:00.0Z'},\n",
       " {'calls': 789, 'timeSpan': '2018-08-08T04:00:00.0Z'},\n",
       " {'calls': 413, 'timeSpan': '2018-08-08T05:00:00.0Z'},\n",
       " {'calls': 843, 'timeSpan': '2018-08-08T06:00:00.0Z'},\n",
       " {'calls': 77, 'timeSpan': '2018-08-08T07:00:00.0Z'},\n",
       " {'calls': 639, 'timeSpan': '2018-08-08T08:00:00.0Z'},\n",
       " {'calls': 1138, 'timeSpan': '2018-08-08T09:00:00.0Z'},\n",
       " {'calls': 1568, 'timeSpan': '2018-08-08T10:00:00.0Z'},\n",
       " {'calls': 3532, 'timeSpan': '2018-08-08T11:00:00.0Z'},\n",
       " {'calls': 4605, 'timeSpan': '2018-08-08T12:00:00.0Z'},\n",
       " {'calls': 6581, 'timeSpan': '2018-08-08T13:00:00.0Z'},\n",
       " {'calls': 7984, 'timeSpan': '2018-08-08T14:00:00.0Z'},\n",
       " {'calls': 4957, 'timeSpan': '2018-08-08T15:00:00.0Z'},\n",
       " {'calls': 6232, 'timeSpan': '2018-08-08T16:00:00.0Z'},\n",
       " {'calls': 5580, 'timeSpan': '2018-08-08T17:00:00.0Z'},\n",
       " {'calls': 4965, 'timeSpan': '2018-08-08T18:00:00.0Z'},\n",
       " {'calls': 4191, 'timeSpan': '2018-08-08T19:00:00.0Z'},\n",
       " {'calls': 3165, 'timeSpan': '2018-08-08T20:00:00.0Z'},\n",
       " {'calls': 3087, 'timeSpan': '2018-08-08T21:00:00.0Z'},\n",
       " {'calls': 2429, 'timeSpan': '2018-08-08T22:00:00.0Z'},\n",
       " {'calls': 1882, 'timeSpan': '2018-08-08T23:00:00.0Z'},\n",
       " {'calls': 2868, 'timeSpan': '2018-08-09T00:00:00.0Z'},\n",
       " {'calls': 1426, 'timeSpan': '2018-08-09T01:00:00.0Z'},\n",
       " {'calls': 1010, 'timeSpan': '2018-08-09T02:00:00.0Z'},\n",
       " {'calls': 832, 'timeSpan': '2018-08-09T03:00:00.0Z'},\n",
       " {'calls': 592, 'timeSpan': '2018-08-09T04:00:00.0Z'},\n",
       " {'calls': 758, 'timeSpan': '2018-08-09T05:00:00.0Z'},\n",
       " {'calls': 398, 'timeSpan': '2018-08-09T06:00:00.0Z'},\n",
       " {'calls': 111, 'timeSpan': '2018-08-09T07:00:00.0Z'},\n",
       " {'calls': 893, 'timeSpan': '2018-08-09T08:00:00.0Z'},\n",
       " {'calls': 983, 'timeSpan': '2018-08-09T09:00:00.0Z'},\n",
       " {'calls': 1620, 'timeSpan': '2018-08-09T10:00:00.0Z'},\n",
       " {'calls': 2800, 'timeSpan': '2018-08-09T11:00:00.0Z'},\n",
       " {'calls': 4484, 'timeSpan': '2018-08-09T12:00:00.0Z'},\n",
       " {'calls': 6494, 'timeSpan': '2018-08-09T13:00:00.0Z'},\n",
       " {'calls': 4692, 'timeSpan': '2018-08-09T14:00:00.0Z'},\n",
       " {'calls': 5179, 'timeSpan': '2018-08-09T15:00:00.0Z'},\n",
       " {'calls': 5313, 'timeSpan': '2018-08-09T16:00:00.0Z'},\n",
       " {'calls': 5152, 'timeSpan': '2018-08-09T17:00:00.0Z'},\n",
       " {'calls': 4450, 'timeSpan': '2018-08-09T18:00:00.0Z'},\n",
       " {'calls': 3476, 'timeSpan': '2018-08-09T19:00:00.0Z'},\n",
       " {'calls': 3768, 'timeSpan': '2018-08-09T20:00:00.0Z'},\n",
       " {'calls': 3238, 'timeSpan': '2018-08-09T21:00:00.0Z'},\n",
       " {'calls': 2280, 'timeSpan': '2018-08-09T22:00:00.0Z'},\n",
       " {'calls': 2055, 'timeSpan': '2018-08-09T23:00:00.0Z'},\n",
       " {'calls': 2101, 'timeSpan': '2018-08-10T00:00:00.0Z'},\n",
       " {'calls': 815, 'timeSpan': '2018-08-10T01:00:00.0Z'},\n",
       " {'calls': 1692, 'timeSpan': '2018-08-10T02:00:00.0Z'},\n",
       " {'calls': 494, 'timeSpan': '2018-08-10T03:00:00.0Z'},\n",
       " {'calls': 658, 'timeSpan': '2018-08-10T04:00:00.0Z'},\n",
       " {'calls': 628, 'timeSpan': '2018-08-10T05:00:00.0Z'},\n",
       " {'calls': 465, 'timeSpan': '2018-08-10T06:00:00.0Z'},\n",
       " {'calls': 295, 'timeSpan': '2018-08-10T07:00:00.0Z'},\n",
       " {'calls': 327, 'timeSpan': '2018-08-10T08:00:00.0Z'},\n",
       " {'calls': 1236, 'timeSpan': '2018-08-10T09:00:00.0Z'},\n",
       " {'calls': 1581, 'timeSpan': '2018-08-10T10:00:00.0Z'},\n",
       " {'calls': 2883, 'timeSpan': '2018-08-10T11:00:00.0Z'},\n",
       " {'calls': 4315, 'timeSpan': '2018-08-10T12:00:00.0Z'},\n",
       " {'calls': 3619, 'timeSpan': '2018-08-10T13:00:00.0Z'},\n",
       " {'calls': 4545, 'timeSpan': '2018-08-10T14:00:00.0Z'},\n",
       " {'calls': 4090, 'timeSpan': '2018-08-10T15:00:00.0Z'},\n",
       " {'calls': 3532, 'timeSpan': '2018-08-10T16:00:00.0Z'},\n",
       " {'calls': 3623, 'timeSpan': '2018-08-10T17:00:00.0Z'},\n",
       " {'calls': 5006, 'timeSpan': '2018-08-10T18:00:00.0Z'},\n",
       " {'calls': 3793, 'timeSpan': '2018-08-10T19:00:00.0Z'},\n",
       " {'calls': 2972, 'timeSpan': '2018-08-10T20:00:00.0Z'},\n",
       " {'calls': 1732, 'timeSpan': '2018-08-10T21:00:00.0Z'},\n",
       " {'calls': 1718, 'timeSpan': '2018-08-10T22:00:00.0Z'},\n",
       " {'calls': 1460, 'timeSpan': '2018-08-10T23:00:00.0Z'},\n",
       " {'calls': 1359, 'timeSpan': '2018-08-11T00:00:00.0Z'},\n",
       " {'calls': 1679, 'timeSpan': '2018-08-11T01:00:00.0Z'},\n",
       " {'calls': 555, 'timeSpan': '2018-08-11T02:00:00.0Z'}]"
      ]
     },
     "execution_count": 17,
     "metadata": {},
     "output_type": "execute_result"
    }
   ],
   "source": [
    "output"
   ]
  },
  {
   "cell_type": "code",
   "execution_count": null,
   "metadata": {},
   "outputs": [],
   "source": []
  }
 ],
 "metadata": {
  "kernelspec": {
   "display_name": "Python [conda env:py35]",
   "language": "python",
   "name": "conda-env-py35-py"
  },
  "language_info": {
   "codemirror_mode": {
    "name": "ipython",
    "version": 3
   },
   "file_extension": ".py",
   "mimetype": "text/x-python",
   "name": "python",
   "nbconvert_exporter": "python",
   "pygments_lexer": "ipython3",
   "version": "3.5.5"
  }
 },
 "nbformat": 4,
 "nbformat_minor": 2
}
