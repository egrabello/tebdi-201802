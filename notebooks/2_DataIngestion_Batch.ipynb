{
 "cells": [
  {
   "cell_type": "code",
   "execution_count": 1,
   "metadata": {},
   "outputs": [],
   "source": [
    "import json\n",
    "import os\n",
    "from pyspark.sql import SparkSession\n",
    "import dateutil.parser\n",
    "from datetime import datetime  \n",
    "from datetime import timedelta"
   ]
  },
  {
   "cell_type": "code",
   "execution_count": 2,
   "metadata": {},
   "outputs": [],
   "source": [
    "# Retrieves input parameters from config file\n",
    "configs = json.loads(open(\"config.json\").read())\n",
    "baseURL = configs['baseURL']\n",
    "baseBlob = configs['baseBlob']\n",
    "baseHDFS = configs['baseHDFS']"
   ]
  },
  {
   "cell_type": "code",
   "execution_count": 4,
   "metadata": {},
   "outputs": [],
   "source": [
    "# Define a list of input dates for a given interval\n",
    "startDate = dateutil.parser.parse(\"2018-08-11T03:00:00.0Z\")\n",
    "endDate = dateutil.parser.parse(\"2018-08-11T23:00:00.0Z\")\n",
    "\n",
    "inputDates = []\n",
    "myDate = startDate\n",
    "\n",
    "while myDate <= endDate:\n",
    "    inputDates.append(myDate.isoformat())\n",
    "    myDate = myDate + timedelta(hours=1)\n",
    "\n",
    "#inputDates ## Debugging"
   ]
  },
  {
   "cell_type": "code",
   "execution_count": 5,
   "metadata": {},
   "outputs": [],
   "source": [
    "# Creates SparkSession\n",
    "spark = SparkSession.builder.appName(\"Spark SQL - HDFS Ingestion\").getOrCreate()"
   ]
  },
  {
   "cell_type": "code",
   "execution_count": 6,
   "metadata": {},
   "outputs": [],
   "source": [
    "# For each date in inputDates...\n",
    "for inputDate in inputDates:\n",
    "    \n",
    "    # Define data source\n",
    "    blobPath = baseURL + baseBlob + \"/y={0}/m={1}/d={2}/h={3}/m=00/PT1H.json\".format(inputDate[0:4],inputDate[5:7],inputDate[8:10],inputDate[11:13])\n",
    "    \n",
    "    # Opens JSON file and load content to a \"dict\" variable\n",
    "    inputFile = json.loads(open(blobPath).read())\n",
    "    \n",
    "    # Removes unnecessary attributes\n",
    "    for item in inputFile['records']:\n",
    "        item.pop('Level', None)\n",
    "        item.pop('category', None)\n",
    "        item.pop('operationName', None)\n",
    "        item.pop('resourceId', None)\n",
    "        item.update(item['properties'])\n",
    "        item.pop('properties', None)\n",
    "        item.pop('isRequestSuccess', None)\n",
    "        item.pop('clientTime', None)\n",
    "    \n",
    "    # Writes temporary JSON file with Spark SQL compatible format\n",
    "    tempOutput = open(baseURL + \"/temp.json\", \"w\")\n",
    "    json.dump(inputFile['records'], tempOutput)\n",
    "    tempOutput.close()\n",
    "    \n",
    "    # Loads temporary JSON to DataFrame and writes to HDFS, grouping by YYYY-MM-DD\n",
    "    df = spark.read.json(baseURL + \"/temp.json\")\n",
    "    outputPath = baseHDFS + \"/{0}-{1}-{2}.json\".format(inputDate[0:4],inputDate[5:7],inputDate[8:10])\n",
    "    df.write.save(outputPath, format='json', mode='append')\n",
    "    \n",
    "    # Removes temporary JSON file\n",
    "    if os.path.exists(baseURL + \"/temp.json\"):\n",
    "        os.remove(baseURL + \"/temp.json\")"
   ]
  },
  {
   "cell_type": "code",
   "execution_count": null,
   "metadata": {},
   "outputs": [],
   "source": []
  }
 ],
 "metadata": {
  "kernelspec": {
   "display_name": "Python [conda env:py35]",
   "language": "python",
   "name": "conda-env-py35-py"
  },
  "language_info": {
   "codemirror_mode": {
    "name": "ipython",
    "version": 3
   },
   "file_extension": ".py",
   "mimetype": "text/x-python",
   "name": "python",
   "nbconvert_exporter": "python",
   "pygments_lexer": "ipython3",
   "version": "3.5.5"
  }
 },
 "nbformat": 4,
 "nbformat_minor": 2
}
