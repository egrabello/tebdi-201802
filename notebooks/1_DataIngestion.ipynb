{
 "cells": [
  {
   "cell_type": "code",
   "execution_count": 1,
   "metadata": {},
   "outputs": [],
   "source": [
    "import json\n",
    "import os\n",
    "import sys\n",
    "from pyspark.sql import SparkSession"
   ]
  },
  {
   "cell_type": "code",
   "execution_count": 2,
   "metadata": {},
   "outputs": [],
   "source": [
    "# Aborts execution if no command line argument is provided\n",
    "if len(sys.argv) < 2:\n",
    "    print('Invalid argument! Please inform a valid UTC TimeStamp.')\n",
    "    sys.exit(1)"
   ]
  },
  {
   "cell_type": "code",
   "execution_count": 10,
   "metadata": {},
   "outputs": [],
   "source": [
    "# Retrieves input parameters from config file\n",
    "configs = json.loads(open(\"config.json\").read())\n",
    "baseURL = configs['baseURL']\n",
    "baseBlob = configs['baseBlob']\n",
    "baseHDFS = configs['baseHDFS']"
   ]
  },
  {
   "cell_type": "code",
   "execution_count": 11,
   "metadata": {},
   "outputs": [],
   "source": [
    "# Define sys.argv[1] as input date\n",
    "inputDate = sys.argv[1]"
   ]
  },
  {
   "cell_type": "code",
   "execution_count": 12,
   "metadata": {},
   "outputs": [],
   "source": [
    "# Data source\n",
    "blobPath = baseURL + baseBlob + \"/y={0}/m={1}/d={2}/h={3}/m=00/PT1H.json\".format(inputDate[0:4],inputDate[5:7],inputDate[8:10],inputDate[11:13])"
   ]
  },
  {
   "cell_type": "code",
   "execution_count": 13,
   "metadata": {},
   "outputs": [],
   "source": [
    "# Opens JSON file and load content to a \"dict\" variable\n",
    "inputFile = json.loads(open(blobPath).read())"
   ]
  },
  {
   "cell_type": "code",
   "execution_count": 14,
   "metadata": {},
   "outputs": [],
   "source": [
    "# Removes unnecessary attributes\n",
    "for item in inputFile['records']:\n",
    "    item.pop('Level', None)\n",
    "    item.pop('category', None)\n",
    "    item.pop('operationName', None)\n",
    "    item.pop('resourceId', None)\n",
    "    item.update(item['properties'])\n",
    "    item.pop('properties', None)\n",
    "    item.pop('isRequestSuccess', None)\n",
    "    item.pop('clientTime', None)"
   ]
  },
  {
   "cell_type": "code",
   "execution_count": 15,
   "metadata": {},
   "outputs": [],
   "source": [
    "# Writes temporary JSON file with Spark SQL compatible format\n",
    "tempOutput = open(baseURL + \"/temp.json\", \"w\")\n",
    "json.dump(inputFile['records'], tempOutput)\n",
    "tempOutput.close()"
   ]
  },
  {
   "cell_type": "code",
   "execution_count": 16,
   "metadata": {},
   "outputs": [],
   "source": [
    "# Creates SparkSession\n",
    "spark = SparkSession.builder.appName(\"Spark SQL - HDFS Ingestion\").getOrCreate()"
   ]
  },
  {
   "cell_type": "code",
   "execution_count": 17,
   "metadata": {},
   "outputs": [],
   "source": [
    "# Loads temporary JSON to DataFrame and writes to HDFS, grouping by YYYY-MM-DD\n",
    "df = spark.read.json(baseURL + \"/temp.json\")\n",
    "outputPath = baseHDFS + \"/{0}-{1}-{2}.json\".format(inputDate[0:4],inputDate[5:7],inputDate[8:10])\n",
    "df.write.save(outputPath, format='json', mode='append')"
   ]
  },
  {
   "cell_type": "code",
   "execution_count": 18,
   "metadata": {},
   "outputs": [],
   "source": [
    "# Removes temporary JSON file\n",
    "if os.path.exists(baseURL + \"/temp.json\"):\n",
    "    os.remove(baseURL + \"/temp.json\")"
   ]
  },
  {
   "cell_type": "code",
   "execution_count": null,
   "metadata": {},
   "outputs": [],
   "source": []
  }
 ],
 "metadata": {
  "kernelspec": {
   "display_name": "Python [conda env:py35]",
   "language": "python",
   "name": "conda-env-py35-py"
  },
  "language_info": {
   "codemirror_mode": {
    "name": "ipython",
    "version": 3
   },
   "file_extension": ".py",
   "mimetype": "text/x-python",
   "name": "python",
   "nbconvert_exporter": "python",
   "pygments_lexer": "ipython3",
   "version": "3.5.5"
  }
 },
 "nbformat": 4,
 "nbformat_minor": 2
}
